{
 "cells": [
  {
   "cell_type": "markdown",
   "metadata": {},
   "source": [
    "integrated test 01\n",
    "--\n",
    "\n",
    "Perform a simple raytrace using all (most) defined optics. \n",
    "\n",
    "This integrated test will verfiy that all optics can be run without errors, but will not check accuracy in any way."
   ]
  },
  {
   "cell_type": "code",
   "execution_count": null,
   "metadata": {},
   "outputs": [],
   "source": [
    "%matplotlib notebook\n",
    "import numpy as np\n",
    "import xicsrt\n",
    "\n",
    "from xicsrt.util import profiler"
   ]
  },
  {
   "cell_type": "code",
   "execution_count": null,
   "metadata": {
    "scrolled": false
   },
   "outputs": [],
   "source": [
    "def get_config():\n",
    "    # 1.\n",
    "    config = dict()\n",
    "\n",
    "    # 2.\n",
    "    config['general'] = {}\n",
    "    config['general']['number_of_iter'] = 1\n",
    "    config['general']['save_images'] = False\n",
    "    config['general']['random_seed'] = 0\n",
    "\n",
    "    # 3.\n",
    "    config['sources'] = {}\n",
    "    config['sources']['source'] = {}\n",
    "    config['sources']['source']['class_name'] = 'XicsrtSourceDirected'\n",
    "    config['sources']['source']['intensity'] = 1e4\n",
    "    config['sources']['source']['wavelength'] = 3.9492\n",
    "    config['sources']['source']['spread'] = np.radians(10.0)\n",
    "    config['sources']['source']['xsize'] = 0.00\n",
    "    config['sources']['source']['ysize'] = 0.00\n",
    "    config['sources']['source']['zsize'] = 0.00\n",
    "\n",
    "    # 4.\n",
    "    config['optics'] = {}\n",
    "    config['optics']['crystal'] = {}\n",
    "    config['optics']['crystal']['class_name'] = 'XicsrtOpticPlanarMirror'\n",
    "    config['optics']['crystal']['check_size'] = True\n",
    "    config['optics']['crystal']['origin'] = [0.0, 0.0,         0.80374151]\n",
    "    config['optics']['crystal']['zaxis']  = [0.0, 0.59497864, -0.80374151]\n",
    "    config['optics']['crystal']['xsize']  = 0.2\n",
    "    config['optics']['crystal']['ysize']  = 0.2\n",
    "\n",
    "\n",
    "    # 5.\n",
    "    config['optics']['detector'] = {}\n",
    "    config['optics']['detector']['class_name'] = 'XicsrtOpticDetector'\n",
    "    config['optics']['detector']['origin'] = [0.0,  0.76871290, 0.56904832]\n",
    "    config['optics']['detector']['zaxis']  = [0.0, -0.95641806, 0.29200084]\n",
    "    config['optics']['detector']['xsize']  = 0.4\n",
    "    config['optics']['detector']['ysize']  = 0.2\n",
    "    \n",
    "    return config\n",
    "\n",
    "def run(config):\n",
    "    # 6.\n",
    "    profiler.resetProfiler()\n",
    "    profiler.startProfiler()\n",
    "\n",
    "    results = xicsrt.raytrace(config)\n",
    "\n",
    "    profiler.stopProfiler()\n",
    "    profiler.report()\n",
    "    \n",
    "    return results"
   ]
  },
  {
   "cell_type": "code",
   "execution_count": null,
   "metadata": {
    "scrolled": true
   },
   "outputs": [],
   "source": [
    "config = get_config()\n",
    "config['optics']['crystal']['class_name'] = 'XicsrtOpticPlanarMirror'\n",
    "results = run(config)"
   ]
  },
  {
   "cell_type": "code",
   "execution_count": null,
   "metadata": {
    "scrolled": true
   },
   "outputs": [],
   "source": [
    "config = get_config()\n",
    "config['optics']['crystal']['class_name'] = 'XicsrtOpticPlanarCrystal'\n",
    "# Rocking curve FWHM in radians.\n",
    "# This is taken from x0h for quartz 1,1,-2,0\n",
    "# Darwin Curve, sigma: 48.070 urad\n",
    "# Darwin Curve, pi:    14.043 urad\n",
    "config['optics']['crystal']['crystal_spacing'] = 2.45676\n",
    "config['optics']['crystal']['rocking_type'] = 'gaussian'\n",
    "config['optics']['crystal']['rocking_fwhm'] = 48.070e-6\n",
    "results = run(config)"
   ]
  },
  {
   "cell_type": "code",
   "execution_count": null,
   "metadata": {},
   "outputs": [],
   "source": [
    "config = get_config()\n",
    "config['optics']['crystal']['class_name'] = 'XicsrtOpticPlanarMosaicCrystal'\n",
    "# Rocking curve FWHM in radians.\n",
    "# This is taken from x0h for quartz 1,1,-2,0\n",
    "# Darwin Curve, sigma: 48.070 urad\n",
    "# Darwin Curve, pi:    14.043 urad\n",
    "config['optics']['crystal']['crystal_spacing'] = 2.45676\n",
    "config['optics']['crystal']['rocking_type'] = 'gaussian'\n",
    "config['optics']['crystal']['rocking_fwhm'] = 48.070e-6\n",
    "config['optics']['crystal']['mosaic_spread'] = np.radians(0.4)\n",
    "results = run(config)"
   ]
  },
  {
   "cell_type": "code",
   "execution_count": null,
   "metadata": {
    "scrolled": true
   },
   "outputs": [],
   "source": [
    "config = get_config()\n",
    "config['optics']['crystal']['class_name'] = 'XicsrtOpticSphericalMirror'\n",
    "results = run(config)"
   ]
  },
  {
   "cell_type": "code",
   "execution_count": null,
   "metadata": {
    "scrolled": true
   },
   "outputs": [],
   "source": [
    "config = get_config()\n",
    "config['optics']['crystal']['class_name'] = 'XicsrtOpticSphericalCrystal'\n",
    "# Rocking curve FWHM in radians.\n",
    "# This is taken from x0h for quartz 1,1,-2,0\n",
    "# Darwin Curve, sigma: 48.070 urad\n",
    "# Darwin Curve, pi:    14.043 urad\n",
    "config['optics']['crystal']['crystal_spacing'] = 2.45676\n",
    "config['optics']['crystal']['rocking_type'] = 'gaussian'\n",
    "config['optics']['crystal']['rocking_fwhm'] = 48.070e-6\n",
    "results = run(config)"
   ]
  },
  {
   "cell_type": "code",
   "execution_count": null,
   "metadata": {
    "scrolled": true
   },
   "outputs": [],
   "source": [
    "config = get_config()\n",
    "config['optics']['crystal']['class_name'] = 'XicsrtOpticMeshSphericalCrystal'\n",
    "# Rocking curve FWHM in radians.\n",
    "# This is taken from x0h for quartz 1,1,-2,0\n",
    "# Darwin Curve, sigma: 48.070 urad\n",
    "# Darwin Curve, pi:    14.043 urad\n",
    "config['optics']['crystal']['crystal_spacing'] = 2.45676\n",
    "config['optics']['crystal']['rocking_type'] = 'gaussian'\n",
    "config['optics']['crystal']['rocking_fwhm'] = 48.070e-6\n",
    "results = run(config)"
   ]
  },
  {
   "cell_type": "code",
   "execution_count": null,
   "metadata": {
    "scrolled": false
   },
   "outputs": [],
   "source": [
    "config = get_config()\n",
    "config['optics']['crystal']['class_name'] = 'XicsrtOpticMeshToroidalCrystal'\n",
    "config['optics']['crystal']['angle_major'] = (-0.1, 0.1)\n",
    "config['optics']['crystal']['angle_minor'] = (-0.5, 0.5)\n",
    "# Rocking curve FWHM in radians.\n",
    "# This is taken from x0h for quartz 1,1,-2,0\n",
    "# Darwin Curve, sigma: 48.070 urad\n",
    "# Darwin Curve, pi:    14.043 urad\n",
    "config['optics']['crystal']['crystal_spacing'] = 2.45676\n",
    "config['optics']['crystal']['rocking_type'] = 'gaussian'\n",
    "config['optics']['crystal']['rocking_fwhm'] = 48.070e-6\n",
    "results = run(config)"
   ]
  },
  {
   "cell_type": "code",
   "execution_count": null,
   "metadata": {
    "scrolled": true
   },
   "outputs": [],
   "source": [
    "config = get_config()\n",
    "config['optics']['crystal']['class_name'] = 'XicsrtOpticSphericalMosaicCrystal'\n",
    "# Rocking curve FWHM in radians.\n",
    "# This is taken from x0h for quartz 1,1,-2,0\n",
    "# Darwin Curve, sigma: 48.070 urad\n",
    "# Darwin Curve, pi:    14.043 urad\n",
    "config['optics']['crystal']['crystal_spacing'] = 2.45676\n",
    "config['optics']['crystal']['rocking_type'] = 'gaussian'\n",
    "config['optics']['crystal']['rocking_fwhm'] = 48.070e-6\n",
    "config['optics']['crystal']['mosaic_spread'] = np.radians(0.4)\n",
    "results = run(config)"
   ]
  },
  {
   "cell_type": "code",
   "execution_count": null,
   "metadata": {},
   "outputs": [],
   "source": []
  },
  {
   "cell_type": "code",
   "execution_count": null,
   "metadata": {
    "pycharm": {
     "name": "#%%\n"
    }
   },
   "outputs": [],
   "source": [
    "import xicsrt.visual.xicsrt_2d__matplotlib as xicsrt_2d\n",
    "fig = xicsrt_2d.plot_intersect(results, 'detector', aspect='equal')"
   ]
  },
  {
   "cell_type": "code",
   "execution_count": null,
   "metadata": {},
   "outputs": [],
   "source": [
    "import xicsrt.visual.xicsrt_3d__plotly as xicsrt_3d\n",
    "\n",
    "fig = xicsrt_3d.figure()\n",
    "xicsrt_3d.add_rays(results)\n",
    "xicsrt_3d.add_optics(results['config'])\n",
    "xicsrt_3d.add_sources(results['config'])\n",
    "xicsrt_3d.show()"
   ]
  },
  {
   "cell_type": "code",
   "execution_count": null,
   "metadata": {},
   "outputs": [],
   "source": []
  }
 ],
 "metadata": {
  "kernelspec": {
   "display_name": "Python 3 (ipykernel)",
   "language": "python",
   "name": "python3"
  },
  "language_info": {
   "codemirror_mode": {
    "name": "ipython",
    "version": 3
   },
   "file_extension": ".py",
   "mimetype": "text/x-python",
   "name": "python",
   "nbconvert_exporter": "python",
   "pygments_lexer": "ipython3",
   "version": "3.9.7"
  }
 },
 "nbformat": 4,
 "nbformat_minor": 4
}
