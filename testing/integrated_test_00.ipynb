{
 "cells": [
  {
   "cell_type": "markdown",
   "id": "brave-rally",
   "metadata": {},
   "source": [
    "integrated_test_00\n",
    "----\n",
    "\n",
    "Check ray generation for plasma sources. In particular we want to check that emissivity to ray calculations are being performed correctly including solid angle and bundle volume calculations."
   ]
  },
  {
   "cell_type": "code",
   "execution_count": null,
   "id": "familiar-cologne",
   "metadata": {},
   "outputs": [],
   "source": [
    "%matplotlib notebook\n",
    "import numpy as np\n",
    "import xicsrt"
   ]
  },
  {
   "cell_type": "code",
   "execution_count": null,
   "id": "general-solution",
   "metadata": {
    "scrolled": false
   },
   "outputs": [],
   "source": [
    "# 1.\n",
    "config = dict()\n",
    "\n",
    "# 2.\n",
    "config['general'] = {}\n",
    "config['general']['number_of_iter'] = 1\n",
    "config['general']['number_of_runs'] = 1\n",
    "\n",
    "# 3.\n",
    "config['sources'] = {}\n",
    "config['sources']['source'] = {}\n",
    "config['sources']['source']['class_name'] = 'XicsrtPlasmaCubic'\n",
    "config['sources']['source']['origin'] = [0.0, 0.0, 0.0]\n",
    "config['sources']['source']['xsize'] = 0.01\n",
    "config['sources']['source']['ysize'] = 0.01\n",
    "config['sources']['source']['zsize'] = 0.01\n",
    "config['sources']['source']['target'] = [0.0, 0.0, 1.0]\n",
    "\n",
    "config['sources']['source']['emissivity'] = 1e12\n",
    "config['sources']['source']['time_resolution'] = 1\n",
    "config['sources']['source']['spread'] = np.radians(180)\n",
    "\n",
    "\n",
    "# 4.\n",
    "config['optics'] = {}\n",
    "config['optics']['detector'] = {}\n",
    "config['optics']['detector']['class_name'] = 'XicsrtOpticDetector'\n",
    "config['optics']['detector']['origin'] = [0.0,  0.0, 1.0]\n",
    "config['optics']['detector']['zaxis']  = [0.0, 0.0, -1.0]\n",
    "config['optics']['detector']['xsize']  = 0.1\n",
    "config['optics']['detector']['ysize']  = 0.1\n",
    "config['optics']['detector']['check_size'] = False\n",
    "\n",
    "# 6.\n",
    "results = xicsrt.raytrace(config)"
   ]
  },
  {
   "cell_type": "code",
   "execution_count": null,
   "id": "wrapped-genetics",
   "metadata": {},
   "outputs": [],
   "source": [
    "num_expected = (config['sources']['source']['emissivity']\n",
    "                * config['sources']['source']['xsize']\n",
    "                * config['sources']['source']['ysize']\n",
    "                * config['sources']['source']['zsize'])\n",
    "num_actual = results['total']['meta']['source']['num_out']\n",
    "print(f'Rays generated at source')\n",
    "print(f'  num_expected: {num_expected} num_actual: {num_actual}')\n",
    "np.testing.assert_allclose(num_expected, num_actual, 1)\n",
    "\n",
    "num_exp_detector = num_expected/2\n",
    "num_act_detector = results['total']['meta']['detector']['num_out']\n",
    "print(f'Rays on detector plane')\n",
    "print(f'  num_expected: {num_exp_detector} num_actual: {num_act_detector}')\n",
    "sigma_5 = np.sqrt(num_exp_detector)*5\n",
    "np.testing.assert_allclose(num_exp_detector, num_act_detector, sigma_5)"
   ]
  },
  {
   "cell_type": "code",
   "execution_count": null,
   "id": "856770c8",
   "metadata": {},
   "outputs": [],
   "source": []
  }
 ],
 "metadata": {
  "kernelspec": {
   "display_name": "Python 3 (ipykernel)",
   "language": "python",
   "name": "python3"
  },
  "language_info": {
   "codemirror_mode": {
    "name": "ipython",
    "version": 3
   },
   "file_extension": ".py",
   "mimetype": "text/x-python",
   "name": "python",
   "nbconvert_exporter": "python",
   "pygments_lexer": "ipython3",
   "version": "3.10.6"
  }
 },
 "nbformat": 4,
 "nbformat_minor": 5
}
