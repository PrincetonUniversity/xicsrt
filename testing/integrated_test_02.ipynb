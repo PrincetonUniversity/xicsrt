{
 "cells": [
  {
   "cell_type": "markdown",
   "metadata": {},
   "source": [
    "integrated test 02\n",
    "--\n",
    "\n",
    "Perform a simple raytrace using the optics that can model planar geometry.\n",
    "\n",
    "The following objects are tested:\n",
    "1. ShapePlane\n",
    "2. ShapeSphere\n",
    "3. ShapeCylinder\n",
    "4. ShapeMeshSphere\n",
    "5. ShapeMeshCylinder\n",
    "6. ShapeMeshTorus\n",
    "\n",
    "This integrated test will verfiy:\n",
    "1. Optics can be run without errors\n",
    "2. Validate all optics in the planar limit"
   ]
  },
  {
   "cell_type": "code",
   "execution_count": null,
   "metadata": {},
   "outputs": [],
   "source": [
    "%matplotlib notebook\n",
    "import numpy as np\n",
    "import logging\n",
    "import xicsrt\n",
    "\n",
    "from xicsrt.util import mirplot\n",
    "from xicsrt.util import profiler\n",
    "\n",
    "logging.getLogger('xicsrt').setLevel(logging.DEBUG)"
   ]
  },
  {
   "cell_type": "code",
   "execution_count": null,
   "metadata": {
    "scrolled": false
   },
   "outputs": [],
   "source": [
    "def get_config():\n",
    "    # 1.\n",
    "    config = dict()\n",
    "\n",
    "    # 2.\n",
    "    config['general'] = {}\n",
    "    config['general']['number_of_iter'] = 1\n",
    "    config['general']['save_images'] = False\n",
    "    config['general']['random_seed'] = 0\n",
    "    config['general']['strict_config_check'] = False\n",
    "\n",
    "    # 3.\n",
    "    config['sources'] = {}\n",
    "    config['sources']['source'] = {}\n",
    "    config['sources']['source']['class_name'] = 'XicsrtSourceDirected'\n",
    "    config['sources']['source']['intensity'] = 1e4\n",
    "    config['sources']['source']['wavelength'] = 3.9492\n",
    "    config['sources']['source']['spread'] = np.radians(5.0)\n",
    "    config['sources']['source']['xsize'] = 0.10\n",
    "    config['sources']['source']['ysize'] = 0.10\n",
    "    config['sources']['source']['zsize'] = 0.00\n",
    "\n",
    "    # 4.\n",
    "    config['optics'] = {}\n",
    "    config['optics']['crystal'] = {}\n",
    "    config['optics']['crystal']['class_name'] = 'XicsrtOpticPlanarMirror'\n",
    "    config['optics']['crystal']['check_size'] = True\n",
    "    config['optics']['crystal']['origin'] = [0.0, 0.0,         0.80374151]\n",
    "    config['optics']['crystal']['zaxis']  = [0.0, 0.59497864, -0.80374151]\n",
    "    config['optics']['crystal']['xsize']  = 0.1\n",
    "    config['optics']['crystal']['ysize']  = 0.1\n",
    "    config['optics']['crystal']['radius'] = 1e5\n",
    "    config['optics']['crystal']['radius_major'] = 1e5\n",
    "    config['optics']['crystal']['radius_minor'] = 0.5e5\n",
    "    config['optics']['crystal']['mesh_size'] = (41,41)\n",
    "    \n",
    "    # Rocking curve FWHM in radians.\n",
    "    # This is taken from x0h for quartz 1,1,-2,0\n",
    "    # Darwin Curve, sigma: 48.070 urad\n",
    "    # Darwin Curve, pi:    14.043 urad\n",
    "    config['optics']['crystal']['crystal_spacing'] = 2.45676\n",
    "    config['optics']['crystal']['rocking_type'] = 'gaussian'\n",
    "    config['optics']['crystal']['rocking_fwhm'] = 48.070e-5\n",
    "    config['optics']['crystal']['check_bragg']  = False\n",
    "\n",
    "    # 5.\n",
    "    config['optics']['detector'] = {}\n",
    "    config['optics']['detector']['class_name'] = 'XicsrtOpticDetector'\n",
    "    config['optics']['detector']['origin'] = [0.0,  0.76871290, 0.56904832]\n",
    "    config['optics']['detector']['zaxis']  = [0.0, -0.95641806, 0.29200084]\n",
    "    config['optics']['detector']['xsize']  = 0.4\n",
    "    config['optics']['detector']['ysize']  = 0.2\n",
    "    \n",
    "    return config\n",
    "\n",
    "def run(config):\n",
    "    # 6.\n",
    "    profiler.resetProfiler()\n",
    "    profiler.startProfiler()\n",
    "\n",
    "    results = xicsrt.raytrace(config)\n",
    "\n",
    "    profiler.stopProfiler()\n",
    "    profiler.report()\n",
    "    \n",
    "    return results\n",
    "\n",
    "results_dict = {}"
   ]
  },
  {
   "cell_type": "code",
   "execution_count": null,
   "metadata": {
    "scrolled": false
   },
   "outputs": [],
   "source": [
    "config = get_config()\n",
    "config['optics']['crystal']['class_name'] = 'XicsrtOpticPlanarCrystal'\n",
    "\n",
    "results_dict[config['optics']['crystal']['class_name']] = run(config)"
   ]
  },
  {
   "cell_type": "code",
   "execution_count": null,
   "metadata": {
    "scrolled": false
   },
   "outputs": [],
   "source": [
    "config = get_config()\n",
    "config['optics']['crystal']['class_name'] = 'XicsrtOpticSphericalCrystal'\n",
    "\n",
    "results_dict[config['optics']['crystal']['class_name']] = run(config)"
   ]
  },
  {
   "cell_type": "code",
   "execution_count": null,
   "metadata": {
    "scrolled": false
   },
   "outputs": [],
   "source": [
    "config = get_config()\n",
    "config['optics']['crystal']['class_name'] = 'XicsrtOpticCylindricalCrystal'\n",
    "\n",
    "results_dict[config['optics']['crystal']['class_name']] = run(config)"
   ]
  },
  {
   "cell_type": "code",
   "execution_count": null,
   "metadata": {
    "scrolled": false
   },
   "outputs": [],
   "source": [
    "config = get_config()\n",
    "config['optics']['crystal']['class_name'] = 'XicsrtOpticToroidalCrystal'\n",
    "\n",
    "results_dict[config['optics']['crystal']['class_name']] = run(config)"
   ]
  },
  {
   "cell_type": "code",
   "execution_count": null,
   "metadata": {},
   "outputs": [],
   "source": [
    "config = get_config()\n",
    "config['optics']['crystal']['class_name'] = 'XicsrtOpticMeshSphericalCrystal'\n",
    "\n",
    "results_dict[config['optics']['crystal']['class_name']] = run(config)"
   ]
  },
  {
   "cell_type": "code",
   "execution_count": null,
   "metadata": {
    "scrolled": false
   },
   "outputs": [],
   "source": [
    "config = get_config()\n",
    "config['optics']['crystal']['class_name'] = 'XicsrtOpticMeshCylindricalCrystal'\n",
    "\n",
    "results_dict[config['optics']['crystal']['class_name']] = run(config)"
   ]
  },
  {
   "cell_type": "code",
   "execution_count": null,
   "metadata": {
    "scrolled": false
   },
   "outputs": [],
   "source": [
    "config = get_config()\n",
    "config['optics']['crystal']['class_name'] = 'XicsrtOpticMeshToroidalCrystal'\n",
    "\n",
    "results_dict[config['optics']['crystal']['class_name']] = run(config)"
   ]
  },
  {
   "cell_type": "code",
   "execution_count": null,
   "metadata": {},
   "outputs": [],
   "source": [
    "results = results_dict['XicsrtOpticPlanarCrystal']\n",
    "import xicsrt.visual.xicsrt_2d__matplotlib as xicsrt_2d\n",
    "fig = xicsrt_2d.plot_intersect(results, 'detector', aspect='equal')"
   ]
  },
  {
   "cell_type": "code",
   "execution_count": null,
   "metadata": {},
   "outputs": [],
   "source": [
    "results = results_dict['XicsrtOpticSphericalCrystal']\n",
    "import xicsrt.visual.xicsrt_2d__matplotlib as xicsrt_2d\n",
    "fig = xicsrt_2d.plot_intersect(results, 'detector', aspect='equal')"
   ]
  },
  {
   "cell_type": "code",
   "execution_count": null,
   "metadata": {
    "pycharm": {
     "name": "#%%\n"
    }
   },
   "outputs": [],
   "source": [
    "results = results_dict['XicsrtOpticCylindricalCrystal']\n",
    "import xicsrt.visual.xicsrt_2d__matplotlib as xicsrt_2d\n",
    "fig = xicsrt_2d.plot_intersect(results, 'detector', aspect='equal')"
   ]
  },
  {
   "cell_type": "code",
   "execution_count": null,
   "metadata": {
    "pycharm": {
     "name": "#%%\n"
    }
   },
   "outputs": [],
   "source": [
    "results = results_dict['XicsrtOpticToroidalCrystal']\n",
    "import xicsrt.visual.xicsrt_2d__matplotlib as xicsrt_2d\n",
    "fig = xicsrt_2d.plot_intersect(results, 'detector', aspect='equal')"
   ]
  },
  {
   "cell_type": "code",
   "execution_count": null,
   "metadata": {},
   "outputs": [],
   "source": [
    "results = results_dict['XicsrtOpticMeshSphericalCrystal']\n",
    "import xicsrt.visual.xicsrt_2d__matplotlib as xicsrt_2d\n",
    "fig = xicsrt_2d.plot_intersect(results, 'detector', aspect='equal')"
   ]
  },
  {
   "cell_type": "code",
   "execution_count": null,
   "metadata": {},
   "outputs": [],
   "source": [
    "results = results_dict['XicsrtOpticMeshCylindricalCrystal']\n",
    "import xicsrt.visual.xicsrt_2d__matplotlib as xicsrt_2d\n",
    "fig = xicsrt_2d.plot_intersect(results, 'detector', aspect='equal')"
   ]
  },
  {
   "cell_type": "code",
   "execution_count": null,
   "metadata": {},
   "outputs": [],
   "source": [
    "results = results_dict['XicsrtOpticMeshToroidalCrystal']\n",
    "import xicsrt.visual.xicsrt_2d__matplotlib as xicsrt_2d\n",
    "fig = xicsrt_2d.plot_intersect(results, 'detector', aspect='equal')"
   ]
  },
  {
   "cell_type": "code",
   "execution_count": null,
   "metadata": {},
   "outputs": [],
   "source": []
  },
  {
   "cell_type": "code",
   "execution_count": null,
   "metadata": {},
   "outputs": [],
   "source": [
    "def get_plot_dict(results, **kwargs):\n",
    "    optic = 'detector'\n",
    "    # Retrieve an object for the given optic/source.\n",
    "    obj = xicsrt.get_element(results['config'], optic)\n",
    "\n",
    "    # Transform from global coordinate to local optic coordinates\n",
    "    origin_ext = results['found']['history'][optic]['origin']\n",
    "    origin_loc = obj.point_to_local(origin_ext)\n",
    "\n",
    "    # Use the mirplot utility to generate the plot.\n",
    "    plotdict = {\n",
    "        'type':'scatter',\n",
    "        'x':origin_loc[:, 0],\n",
    "        'y':origin_loc[:, 1],\n",
    "        }\n",
    "    for key in kwargs:\n",
    "        plotdict[key] = kwargs[key]\n",
    "        \n",
    "    return plotdict\n",
    "\n",
    "def plot_comparison(names, results_dict):\n",
    "    plotlist = []\n",
    "    for name in names:\n",
    "        results = results_dict[name]\n",
    "        plotlist.append(get_plot_dict(\n",
    "            results,\n",
    "            label=name,\n",
    "            legend=True,\n",
    "            ))\n",
    "\n",
    "    fig = mirplot.plot_to_screen(plotlist)\n",
    "    return fig"
   ]
  },
  {
   "cell_type": "code",
   "execution_count": null,
   "metadata": {},
   "outputs": [],
   "source": [
    "# Overplot all results.\n",
    "\n",
    "names = [\n",
    "    'XicsrtOpticPlanarCrystal',\n",
    "    'XicsrtOpticSphericalCrystal',\n",
    "    'XicsrtOpticCylindricalCrystal',\n",
    "    'XicsrtOpticToroidalCrystal',\n",
    "    'XicsrtOpticMeshSphericalCrystal',\n",
    "    'XicsrtOpticMeshCylindricalCrystal',\n",
    "    'XicsrtOpticMeshToroidalCrystal',\n",
    "    ]\n",
    "fig = plot_comparison(names, results_dict)"
   ]
  },
  {
   "cell_type": "code",
   "execution_count": null,
   "metadata": {},
   "outputs": [],
   "source": []
  },
  {
   "cell_type": "code",
   "execution_count": null,
   "metadata": {
    "scrolled": false
   },
   "outputs": [],
   "source": [
    "import xicsrt.visual.xicsrt_3d__plotly as xicsrt_3d\n",
    "\n",
    "results = results_dict['XicsrtOpticMeshCylindricalCrystal']\n",
    "\n",
    "fig = xicsrt_3d.figure()\n",
    "xicsrt_3d.add_rays(results)\n",
    "xicsrt_3d.add_optics(results['config'])\n",
    "xicsrt_3d.add_sources(results['config'])\n",
    "xicsrt_3d.show()"
   ]
  },
  {
   "cell_type": "code",
   "execution_count": null,
   "metadata": {},
   "outputs": [],
   "source": []
  }
 ],
 "metadata": {
  "kernelspec": {
   "display_name": "Python 3 (ipykernel)",
   "language": "python",
   "name": "python3"
  },
  "language_info": {
   "codemirror_mode": {
    "name": "ipython",
    "version": 3
   },
   "file_extension": ".py",
   "mimetype": "text/x-python",
   "name": "python",
   "nbconvert_exporter": "python",
   "pygments_lexer": "ipython3",
   "version": "3.10.6"
  }
 },
 "nbformat": 4,
 "nbformat_minor": 4
}
