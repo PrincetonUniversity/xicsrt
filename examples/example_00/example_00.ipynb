{
 "cells": [
  {
   "cell_type": "markdown",
   "metadata": {},
   "source": [
    "Example 00\n",
    "--\n",
    "\n",
    "A simple example consisting only of a point source and a spherical crystal.\n",
    "\n",
    "See [documentation] for a discription of all options.\n",
    "\n",
    "[documentation]: https://xicsrt.readthedocs.io/en/latest/apidoc/examples.example_00.example_00.html"
   ]
  },
  {
   "cell_type": "code",
   "execution_count": null,
   "metadata": {},
   "outputs": [],
   "source": [
    "%matplotlib notebook\n",
    "import numpy as np\n",
    "import xicsrt\n",
    "xicsrt.warn_version('0.8')"
   ]
  },
  {
   "cell_type": "code",
   "execution_count": null,
   "metadata": {},
   "outputs": [],
   "source": [
    "config = {}\n",
    "\n",
    "config['general'] = {}\n",
    "config['general']['number_of_iter'] = 5\n",
    "config['general']['save_images'] = False\n",
    "\n",
    "config['sources'] = {}\n",
    "config['sources']['source'] = {}\n",
    "config['sources']['source']['class_name'] = 'XicsrtSourceDirected'\n",
    "config['sources']['source']['intensity'] = 1e3\n",
    "config['sources']['source']['wavelength'] = 3.9492\n",
    "config['sources']['source']['spread'] = np.radians(5.0)\n",
    "\n",
    "config['optics'] = {}\n",
    "config['optics']['detector'] = {}\n",
    "config['optics']['detector']['class_name'] = 'XicsrtOpticDetector'\n",
    "config['optics']['detector']['origin'] = [0.0, 0.0, 1.0]\n",
    "config['optics']['detector']['zaxis']  = [0.0, 0.0, -1]\n",
    "config['optics']['detector']['xsize']  = 0.2\n",
    "config['optics']['detector']['ysize'] = 0.2\n",
    "\n",
    "results = xicsrt.raytrace(config)"
   ]
  },
  {
   "cell_type": "code",
   "execution_count": null,
   "metadata": {
    "scrolled": false
   },
   "outputs": [],
   "source": [
    "import xicsrt.visual.xicsrt_3d__plotly as xicsrt_3d\n",
    "\n",
    "xicsrt_3d.plot(results)"
   ]
  },
  {
   "cell_type": "code",
   "execution_count": null,
   "metadata": {},
   "outputs": [],
   "source": [
    "import xicsrt.visual.xicsrt_2d__matplotlib as xicsrt_2d\n",
    "\n",
    "fig = xicsrt_2d.plot_intersect(results, 'detector', aspect='equal')"
   ]
  },
  {
   "cell_type": "code",
   "execution_count": null,
   "metadata": {},
   "outputs": [],
   "source": []
  }
 ],
 "metadata": {
  "kernelspec": {
   "display_name": "Python 3 (ipykernel)",
   "language": "python",
   "name": "python3"
  },
  "language_info": {
   "codemirror_mode": {
    "name": "ipython",
    "version": 3
   },
   "file_extension": ".py",
   "mimetype": "text/x-python",
   "name": "python",
   "nbconvert_exporter": "python",
   "pygments_lexer": "ipython3",
   "version": "3.10.6"
  }
 },
 "nbformat": 4,
 "nbformat_minor": 4
}
