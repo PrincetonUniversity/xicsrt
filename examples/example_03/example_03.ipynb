{
 "cells": [
  {
   "cell_type": "markdown",
   "metadata": {},
   "source": [
    "Example 01\n",
    "--\n",
    "\n",
    "A slightly more complicated example with x-rays.\n",
    "\n",
    "This configuration has a point source, a spherical crystal, and a detector.\n",
    "\n",
    "See [documentation] for a discription of all options.\n",
    "\n",
    "[documentation]: https://xicsrt.readthedocs.io/en/latest/apidoc/examples.example_01.example_01.html"
   ]
  },
  {
   "cell_type": "code",
   "execution_count": null,
   "metadata": {},
   "outputs": [],
   "source": [
    "%matplotlib notebook\n",
    "import sys\n",
    "\n",
    "sys.path.append('/mnt/01TB/Work/new_code/xicsrt')\n",
    "import numpy as np\n",
    "import xicsrt\n",
    "xicsrt.warn_version('0.8')"
   ]
  },
  {
   "cell_type": "code",
   "execution_count": null,
   "metadata": {
    "scrolled": false
   },
   "outputs": [],
   "source": [
    "# 1.\n",
    "config = dict()\n",
    "\n",
    "# 2.\n",
    "config['general'] = {}\n",
    "config['general']['number_of_iter'] = 5\n",
    "config['general']['save_images'] = False\n",
    "\n",
    "# 3.\n",
    "config['sources'] = {}\n",
    "config['sources']['source'] = {}\n",
    "config['sources']['source']['class_name'] = 'XicsrtSourceDirected'\n",
    "config['sources']['source']['intensity'] = 1e4\n",
    "config['sources']['source']['wavelength'] = 3.9492\n",
    "config['sources']['source']['spread'] = np.radians(0.27)\n",
    "config['sources']['source']['xsize'] = 0.00\n",
    "config['sources']['source']['ysize'] = 0.00\n",
    "config['sources']['source']['zsize'] = 0.00\n",
    "\n",
    "# 4.\n",
    "config['optics'] = {}\n",
    "config['optics']['crystal'] = {}\n",
    "config['optics']['crystal']['class_name'] = 'XicsrtOpticToroidalCrystal'\n",
    "config['optics']['crystal']['check_size'] = True\n",
    "config['optics']['crystal']['origin'] = [0.0, 0.0,         0.80374151]\n",
    "config['optics']['crystal']['zaxis']  = [0.0, 0.59497864, -0.80374151]\n",
    "config['optics']['crystal']['xaxis']  = [1.0, 0.0, 0.0]\n",
    "config['optics']['crystal']['xsize']  = 0.2\n",
    "config['optics']['crystal']['ysize']  = 0.2\n",
    "config['optics']['crystal']['Rmajor'] = 1.0\n",
    "config['optics']['crystal']['Rminor'] = 1.0\n",
    "\n",
    "# Rocking curve FWHM in radians.\n",
    "# This is taken from x0h for quartz 1,1,-2,0\n",
    "# Darwin Curve, sigma: 48.070 urad\n",
    "# Darwin Curve, pi:    14.043 urad\n",
    "config['optics']['crystal']['crystal_spacing'] = 2.45676\n",
    "config['optics']['crystal']['rocking_type'] = 'gaussian'\n",
    "config['optics']['crystal']['rocking_fwhm'] = 2000.070e-6\n",
    "\n",
    "# 5.\n",
    "config['optics']['detector'] = {}\n",
    "config['optics']['detector']['class_name'] = 'XicsrtOpticDetector'\n",
    "config['optics']['detector']['origin'] = [0.0,  0.76871290, 0.56904832]\n",
    "config['optics']['detector']['zaxis']  = [0.0, -0.95641806, 0.29200084]\n",
    "config['optics']['detector']['xsize']  = 0.4\n",
    "config['optics']['detector']['ysize']  = 0.2\n",
    "\n",
    "# 6.\n",
    "results = xicsrt.raytrace(config)"
   ]
  },
  {
   "cell_type": "code",
   "execution_count": null,
   "metadata": {},
   "outputs": [],
   "source": [
    "import xicsrt.visual.xicsrt_3d__plotly as xicsrt_3d\n",
    "\n",
    "fig = xicsrt_3d.figure()\n",
    "xicsrt_3d.add_rays(results)\n",
    "xicsrt_3d.add_optics(results['config'])\n",
    "xicsrt_3d.add_sources(results['config'])\n",
    "xicsrt_3d.show()"
   ]
  },
  {
   "cell_type": "code",
   "execution_count": null,
   "metadata": {
    "pycharm": {
     "name": "#%%\n"
    }
   },
   "outputs": [],
   "source": [
    "import xicsrt.visual.xicsrt_2d__matplotlib as xicsrt_2d\n",
    "fig = xicsrt_2d.plot_intersect(results, 'detector')"
   ]
  },
  {
   "cell_type": "code",
   "execution_count": null,
   "metadata": {},
   "outputs": [],
   "source": []
  }
 ],
 "metadata": {
  "kernelspec": {
   "display_name": "Python 3",
   "language": "python",
   "name": "python3"
  },
  "language_info": {
   "codemirror_mode": {
    "name": "ipython",
    "version": 3
   },
   "file_extension": ".py",
   "mimetype": "text/x-python",
   "name": "python",
   "nbconvert_exporter": "python",
   "pygments_lexer": "ipython3",
   "version": "3.8.10"
  }
 },
 "nbformat": 4,
 "nbformat_minor": 4
}
