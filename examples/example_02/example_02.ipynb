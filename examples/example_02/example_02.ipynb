{
 "cells": [
  {
   "cell_type": "markdown",
   "metadata": {},
   "source": [
    "Example 02\n",
    "--\n",
    "\n",
    "An example showing how to define a complex aperture."
   ]
  },
  {
   "cell_type": "code",
   "execution_count": null,
   "metadata": {},
   "outputs": [],
   "source": [
    "%matplotlib notebook\n",
    "import sys\n",
    "\n",
    "sys.path.append('/mnt/01TB/Work/new_code/xicsrt')\n",
    "import numpy as np\n",
    "import xicsrt\n",
    "xicsrt.warn_version('0.8')"
   ]
  },
  {
   "cell_type": "code",
   "execution_count": null,
   "metadata": {
    "scrolled": false
   },
   "outputs": [],
   "source": [
    "config = {}\n",
    "\n",
    "config['general'] = {}\n",
    "config['general']['number_of_iter'] = 5\n",
    "config['general']['save_images'] = False\n",
    "config['general']['random_seed'] = 0\n",
    "\n",
    "config['sources'] = {}\n",
    "config['sources']['source'] = {}\n",
    "config['sources']['source']['class_name'] = 'XicsrtSourceDirected'\n",
    "config['sources']['source']['intensity'] = 1e3\n",
    "config['sources']['source']['wavelength'] = 3.9492\n",
    "config['sources']['source']['angular_dist'] = 'isotropic_xy'\n",
    "config['sources']['source']['spread'] = np.radians(6.0)\n",
    "\n",
    "config['optics'] = {}\n",
    "config['optics']['aperture'] = {}\n",
    "config['optics']['aperture']['class_name'] = 'XicsrtOpticAperture'\n",
    "config['optics']['aperture']['origin'] = [0.0, 0.0, 0.8]\n",
    "config['optics']['aperture']['zaxis'] = [0.0, 0.0, 1.0]\n",
    "config['optics']['aperture']['aperture']=[\n",
    "#     {'shape':'circle', 'size':[0.075], 'logic':'and'},\n",
    "   {'shape':'circle', 'size':[0.065], 'origin':[-0.010, -0.01],  'logic':'and'},\n",
    "#    {'shape':'circle', 'size':[0.048], 'origin':[-0.027, -0.01],  'logic':'or'},\n",
    "#    {'shape':'circle', 'size':[0.044], 'origin':[-0.032, -0.015], 'logic':'not'},\n",
    "#    {'shape':'circle', 'size':[0.034], 'origin':[-0.041, -0.013], 'logic':'or'},\n",
    "#    {'shape':'circle', 'size':[0.032], 'origin':[-0.045, -0.018], 'logic':'not'},\n",
    "#    {'shape':'circle', 'size':[0.025], 'origin':[-0.038, -0.020], 'logic':'or'},\n",
    "    ]\n",
    "\n",
    "config['optics']['detector'] = {}\n",
    "config['optics']['detector']['class_name'] = 'XicsrtOpticDetector'\n",
    "config['optics']['detector']['origin'] = [0.0, 0.0, 1.0]\n",
    "config['optics']['detector']['zaxis'] = [0.0, 0.0, -1]\n",
    "config['optics']['detector']['xsize'] = 0.2\n",
    "config['optics']['detector']['ysize'] = 0.2\n",
    "\n",
    "\n",
    "results = xicsrt.raytrace(config)"
   ]
  },
  {
   "cell_type": "code",
   "execution_count": null,
   "metadata": {},
   "outputs": [],
   "source": [
    "import xicsrt.visual.xicsrt_2d__matplotlib as xicsrt_2d\n",
    "\n",
    "fig = xicsrt_2d.plot_intersect(results, 'detector', found_color='orange', aspect='equal')"
   ]
  },
  {
   "cell_type": "code",
   "execution_count": null,
   "metadata": {
    "scrolled": false
   },
   "outputs": [],
   "source": [
    "import xicsrt.visual.xicsrt_3d__plotly as xicsrt_3d\n",
    "\n",
    "fig = xicsrt_3d.figure()\n",
    "xicsrt_3d.add_rays(results)\n",
    "xicsrt_3d.add_optics(results['config'])\n",
    "xicsrt_3d.add_sources(results['config'])\n",
    "\n",
    "camera = dict(\n",
    "    up=dict(x=0, y=-1, z=0),\n",
    "    center=dict(x=0, y=0.0, z=0),\n",
    "    eye=dict(x=1.5, y=1.0, z=0.0)\n",
    "    )\n",
    "fig.update_layout(scene_camera=camera)\n",
    "\n",
    "xicsrt_3d.show()"
   ]
  },
  {
   "cell_type": "code",
   "execution_count": null,
   "metadata": {},
   "outputs": [],
   "source": []
  }
 ],
 "metadata": {
  "kernelspec": {
   "display_name": "Python 3",
   "language": "python",
   "name": "python3"
  },
  "language_info": {
   "codemirror_mode": {
    "name": "ipython",
    "version": 3
   },
   "file_extension": ".py",
   "mimetype": "text/x-python",
   "name": "python",
   "nbconvert_exporter": "python",
   "pygments_lexer": "ipython3",
   "version": "3.8.10"
  }
 },
 "nbformat": 4,
 "nbformat_minor": 4
}
